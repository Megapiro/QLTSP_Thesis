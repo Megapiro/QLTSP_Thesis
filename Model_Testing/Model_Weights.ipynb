{
 "cells": [
  {
   "cell_type": "code",
   "execution_count": null,
   "metadata": {},
   "outputs": [],
   "source": [
    "# import the libraries needed to represent the tsp and to embed it on the quantum annealer\n",
    "from dwave.system.samplers import DWaveSampler\n",
    "from dwave.system.composites import EmbeddingComposite\n",
    "from neal import SimulatedAnnealingSampler\n",
    "\n",
    "import numpy as np\n",
    "import dimod\n",
    "import itertools \n",
    "import minorminer\n",
    "import networkx as nx\n",
    "import dwave_networkx as dnx\n"
   ]
  },
  {
   "cell_type": "code",
   "execution_count": null,
   "metadata": {},
   "outputs": [],
   "source": [
    "# problem parameters\n",
    "PROBLEM_NAME = 'tsp1.txt'\n",
    "TOKEN = ''\n",
    "D = np.loadtxt('Test_Problems/' + PROBLEM_NAME, dtype='i', delimiter=' ')\n",
    "\n",
    "n = D.shape[0]\n",
    "num_reads = 100\n",
    "\n",
    "print(f'D is: \\n{D}')"
   ]
  },
  {
   "cell_type": "code",
   "execution_count": null,
   "metadata": {},
   "outputs": [],
   "source": [
    "# normalization factors\n",
    "A_NORMALIZATION = np.max(D) + 1\n",
    "B_NORMALIZATION = 1"
   ]
  },
  {
   "cell_type": "code",
   "execution_count": null,
   "metadata": {},
   "outputs": [],
   "source": [
    "from pyqubo import Binary, Constraint, Array\n",
    "\n",
    "x = Array.create('x', (n,n), 'BINARY')\n",
    "x"
   ]
  },
  {
   "cell_type": "code",
   "execution_count": null,
   "metadata": {},
   "outputs": [],
   "source": [
    "H_a1 = 0\n",
    "for v in range(n):\n",
    "    H_temp = 1\n",
    "    for j in range(n):\n",
    "        H_temp -= x[v, j]\n",
    "\n",
    "    H_a1 += H_temp * H_temp\n",
    "\n",
    "H_a2 = 0\n",
    "for j in range(n):\n",
    "    H_temp = 1\n",
    "    for v in range(n):\n",
    "        H_temp -= x[v, j]\n",
    "\n",
    "    H_a2 += H_temp * H_temp\n",
    "\n",
    "H_a3 = 0\n",
    "for u in range(n):\n",
    "    for v in range(n):\n",
    "            k = 1\n",
    "            for j in range(n):\n",
    "                H_a3 +=  x[u, j] * x[v, k]\n",
    "\n",
    "                k += 1\n",
    "                if k == n: k = 0\n"
   ]
  },
  {
   "cell_type": "code",
   "execution_count": null,
   "metadata": {},
   "outputs": [],
   "source": [
    "H_b = 0\n",
    "\n",
    "for u in range(n):\n",
    "    for v in range(n):\n",
    "        if u != v:\n",
    "            k = 1\n",
    "            for j in range(n):\n",
    "                H_b +=  D[u,v] * x[u, j] * x[v, k]\n",
    "\n",
    "                k += 1\n",
    "                if k == n: k = 0\n",
    "\n",
    "H_b"
   ]
  },
  {
   "cell_type": "code",
   "execution_count": null,
   "metadata": {},
   "outputs": [],
   "source": [
    "H_A = A_NORMALIZATION * H_a1 + A_NORMALIZATION * H_a2 #+ A_NORMALIZATION * H_a3\n",
    "H_B = B_NORMALIZATION * H_b\n",
    "\n",
    "H = H_A + H_B\n",
    "\n",
    "model = H.compile()\n",
    "qubo, _= model.to_qubo()\n",
    "\n",
    "BQM = dimod.BinaryQuadraticModel.from_qubo(qubo)"
   ]
  },
  {
   "cell_type": "markdown",
   "metadata": {},
   "source": [
    "Util functions needed to visualize the results, both in simulated annealing and on the real QPU"
   ]
  },
  {
   "cell_type": "code",
   "execution_count": null,
   "metadata": {},
   "outputs": [],
   "source": [
    "def print_response_data(response):\n",
    "    pos_sets = []\n",
    "    response = response.lowest()\n",
    "    # ------- Print results to user -------\n",
    "    print('-' * 100)\n",
    "    print('{:>20s}{:>42s}{:>22s}'.format('Set 1','Energy',\"Count\"))\n",
    "    print('-' * 100)\n",
    "    for sample, E, occ in response.data(fields=['sample','energy',\"num_occurrences\"]):\n",
    "        S0 = [k for k,v in sample.items() if v == 0]\n",
    "        S1 = [k for k,v in sample.items() if v == 1]\n",
    "        pos_sets.append(S1)\n",
    "        print('{:>30s}{:^30s}{:^15s}'.format(str(S1),str(E),str(occ)))\n",
    "    \n",
    "    return pos_sets\n",
    "\n",
    "def map_variables(pos_set):\n",
    "    m_set = []\n",
    "    for i in range(len(pos_set)):\n",
    "        x = pos_set[i].replace(']', '').split('[')\n",
    "        m_set.append([int(x[1]), int(x[2])])\n",
    "    \n",
    "    return m_set\n",
    "\n",
    "def return_solution(pos_solution):\n",
    "    for p_set in pos_solution:\n",
    "        m_set = map_variables(p_set)\n",
    "        s_res = sorted(m_set, key=lambda x: x[1])\n",
    "        for i in range(len(s_res) - 1):\n",
    "            print((s_res[i])[0], end='-->')\n",
    "        \n",
    "        print((s_res[len(s_res) - 1])[0])"
   ]
  },
  {
   "cell_type": "markdown",
   "metadata": {},
   "source": [
    "## Solve the problem with Simulated Annealing"
   ]
  },
  {
   "cell_type": "code",
   "execution_count": null,
   "metadata": {},
   "outputs": [],
   "source": [
    "sampler = SimulatedAnnealingSampler()\n",
    "\n",
    "response_SA = sampler.sample(BQM, num_reads = num_reads)\n",
    "response_SA.aggregate()"
   ]
  },
  {
   "cell_type": "code",
   "execution_count": null,
   "metadata": {},
   "outputs": [],
   "source": [
    "solution_SA = print_response_data(response_SA.aggregate())"
   ]
  },
  {
   "cell_type": "code",
   "execution_count": null,
   "metadata": {},
   "outputs": [],
   "source": [
    "print(f'There are {len(solution_SA)} solutions')\n",
    "return_solution(solution_SA)"
   ]
  },
  {
   "cell_type": "markdown",
   "metadata": {},
   "source": [
    "## Solve the problem on the QPU"
   ]
  },
  {
   "cell_type": "code",
   "execution_count": null,
   "metadata": {},
   "outputs": [],
   "source": [
    "sampler = EmbeddingComposite(DWaveSampler(token=TOKEN))\n",
    "\n",
    "response_QPU = sampler.sample(BQM, num_reads=num_reads, label='Test tsp all ones')\n",
    "response_QPU.aggregate()"
   ]
  },
  {
   "cell_type": "code",
   "execution_count": null,
   "metadata": {},
   "outputs": [],
   "source": [
    "solution_QPU = print_response_data(response_QPU.aggregate())"
   ]
  },
  {
   "cell_type": "code",
   "execution_count": null,
   "metadata": {},
   "outputs": [],
   "source": [
    "print(f'There are {len(solution_QPU)} solutions')\n",
    "return_solution(solution_QPU)"
   ]
  },
  {
   "cell_type": "markdown",
   "metadata": {},
   "source": [
    "## Number of required qubits"
   ]
  },
  {
   "cell_type": "code",
   "execution_count": null,
   "metadata": {},
   "outputs": [],
   "source": [
    "# identify the embedded graph on the architecture of the solver used in the real annealing\n",
    "\n",
    "device = DWaveSampler(token=TOKEN)\n",
    "device.solver.data['id']\n",
    "\n",
    "QUBO_graph = BQM.to_networkx_graph()\n",
    "QPU_graph = device.solver.data['properties'][\"couplers\"]\n",
    "\n",
    "embedded_graph = minorminer.find_embedding(QUBO_graph.edges(), QPU_graph)\n",
    "\n",
    "embedded_graph"
   ]
  },
  {
   "cell_type": "code",
   "execution_count": null,
   "metadata": {},
   "outputs": [],
   "source": [
    "# print the number of qubit required in the embedding and the minimal and maximal length of the chains created\n",
    "\n",
    "sublist = [values for keys, values in embedded_graph.items()]\n",
    "flat_list = set(itertools.chain(*sublist))    \n",
    "\n",
    "max_chain_length = None\n",
    "min_chain_length = None\n",
    "\n",
    "for _, chain in embedded_graph.items():\n",
    "    if max_chain_length is None:\n",
    "        max_chain_length = len(chain)\n",
    "        min_chain_length = len(chain)\n",
    "\n",
    "    if len(chain) > max_chain_length:\n",
    "        max_chain_length = len(chain)\n",
    "\n",
    "    if len(chain) < min_chain_length:\n",
    "        min_chain_length = len(chain)\n",
    "\n",
    "    \n",
    "print(\"Embedding requires {} qubits and has chain lengths between {}-{}\".format(len(flat_list),min_chain_length, max_chain_length))"
   ]
  }
 ],
 "metadata": {
  "interpreter": {
   "hash": "e509451783e62919abffc1778914e271ca7a1fd4590538ba05d27502a1d32bd2"
  },
  "kernelspec": {
   "display_name": "Python 3",
   "language": "python",
   "name": "python3"
  },
  "language_info": {
   "codemirror_mode": {
    "name": "ipython",
    "version": 3
   },
   "file_extension": ".py",
   "mimetype": "text/x-python",
   "name": "python",
   "nbconvert_exporter": "python",
   "pygments_lexer": "ipython3",
   "version": "3.9.5"
  }
 },
 "nbformat": 4,
 "nbformat_minor": 2
}
